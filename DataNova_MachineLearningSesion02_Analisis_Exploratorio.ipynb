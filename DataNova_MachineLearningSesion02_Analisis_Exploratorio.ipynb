{
  "nbformat": 4,
  "nbformat_minor": 0,
  "metadata": {
    "anaconda-cloud": {},
    "kernelspec": {
      "display_name": "Python",
      "language": "python",
      "name": "conda-env-python-py"
    },
    "language_info": {
      "codemirror_mode": {
        "name": "ipython",
        "version": 3
      },
      "file_extension": ".py",
      "mimetype": "text/x-python",
      "name": "python",
      "nbconvert_exporter": "python",
      "pygments_lexer": "ipython3",
      "version": "3.6.7"
    },
    "colab": {
      "name": "DataNova-MachineLearningSesion02-Analisis_Exploratorio.ipynb",
      "provenance": [],
      "collapsed_sections": []
    }
  },
  "cells": [
    {
      "cell_type": "markdown",
      "metadata": {
        "id": "OwNg2QoAnSJh",
        "colab_type": "text"
      },
      "source": [
        "Fuente de información:\n",
        "Este notebook fue elaborado tomando como base un ejercicio de \"Data Analysis with Python\" de www.coursera.com\n",
        "\n"
      ]
    },
    {
      "cell_type": "markdown",
      "metadata": {
        "id": "IpObDtFRnqVV",
        "colab_type": "text"
      },
      "source": [
        "El objetivo de este notebook es ilustrar algunos aspectos que son útiles para ejecutar el paso de análisis exploratorio de los datos (Exploratory Data Analysis)"
      ]
    },
    {
      "cell_type": "markdown",
      "metadata": {
        "id": "2DzOg_zhLhFn",
        "colab_type": "text"
      },
      "source": [
        "<h2>Tabla de Contenido</h2>\n",
        "\n",
        "<div class=\"alert alert-block alert-info\" style=\"margin-top: 20px\">\n",
        "<ol>\n",
        "    <li><a href=\"#import_data\">Análisis Exploratorio de Datos</a></li>\n",
        "    <li><a href=\"#import_data\">Análisis Estadístico Descriptivo</a></li>\n",
        "    <li><a href=\"#pattern_visualization\">Describir datos categóricos</a></li> \n",
        "    <li><a href=\"#basic_grouping\">Agrupar Atributos</a></li>\n",
        "    <li><a href=\"#basic_grouping\">Analizar patrones de los atributos usando visualización</a></li>\n",
        "    <li><a href=\"#correlation_causation\">Correlación y Causación</a></li>\n",
        "    <li><a href=\"#anova\">Análisis de Varianza (ANOVA - Analysis of Variance)</a></li>\n",
        "</ol>\n",
        "    "
      ]
    },
    {
      "cell_type": "markdown",
      "metadata": {
        "id": "_HQAGZQQLhFo",
        "colab_type": "text"
      },
      "source": [
        "<h3>El análisis exploratorio de datos se utiliza para conocer los datos y sus relaciones, éste tipo de análisis se debe ejecutar antes de utilizar los algoritmos de Machine Learning y esta muy relacionado con la selección de atributos que se usarán en la creación de modelos, esto porque nos sirve para determinar que atributos tienen relación con la variable a predecir</h3>\n",
        "\n"
      ]
    },
    {
      "cell_type": "markdown",
      "metadata": {
        "id": "PkqbGAqULhFs",
        "colab_type": "text"
      },
      "source": [
        "Iniciemos importando las librerías que vamos a usar en el ejercicio."
      ]
    },
    {
      "cell_type": "code",
      "metadata": {
        "id": "85tOrcY-LhFu",
        "colab_type": "code",
        "colab": {}
      },
      "source": [
        "### Librería de cálculo numérico\n",
        "import numpy as np\n",
        "### Libreria para manipulación de datasets  \n",
        "import pandas as pd"
      ],
      "execution_count": 3,
      "outputs": []
    },
    {
      "cell_type": "markdown",
      "metadata": {
        "id": "JQP4r5VALhF5",
        "colab_type": "text"
      },
      "source": [
        "Ruta donde se encuentra el dataset\n"
      ]
    },
    {
      "cell_type": "code",
      "metadata": {
        "jupyter": {
          "outputs_hidden": false
        },
        "id": "G3d5aHOVLhF7",
        "colab_type": "code",
        "colab": {}
      },
      "source": [
        "### lugar donde se encuentra el dataset\n",
        "path='https://s3-api.us-geo.objectstorage.softlayer.net/cf-courses-data/CognitiveClass/DA0101EN/automobileEDA.csv'\n"
      ],
      "execution_count": 4,
      "outputs": []
    },
    {
      "cell_type": "code",
      "metadata": {
        "id": "gFxjrmlxud0H",
        "colab_type": "code",
        "colab": {}
      },
      "source": [
        "### Cargue de los datos en un dataframe\n",
        "df = pd.read_csv(path)"
      ],
      "execution_count": 5,
      "outputs": []
    },
    {
      "cell_type": "code",
      "metadata": {
        "id": "5YeYOJyyujXO",
        "colab_type": "code",
        "colab": {
          "base_uri": "https://localhost:8080/",
          "height": 309
        },
        "outputId": "5883c1ac-4cec-4e2f-d68b-155ecca16854"
      },
      "source": [
        "### Para observar los primeros registros del dataset\n",
        "df.head()"
      ],
      "execution_count": 6,
      "outputs": [
        {
          "output_type": "execute_result",
          "data": {
            "text/html": [
              "<div>\n",
              "<style scoped>\n",
              "    .dataframe tbody tr th:only-of-type {\n",
              "        vertical-align: middle;\n",
              "    }\n",
              "\n",
              "    .dataframe tbody tr th {\n",
              "        vertical-align: top;\n",
              "    }\n",
              "\n",
              "    .dataframe thead th {\n",
              "        text-align: right;\n",
              "    }\n",
              "</style>\n",
              "<table border=\"1\" class=\"dataframe\">\n",
              "  <thead>\n",
              "    <tr style=\"text-align: right;\">\n",
              "      <th></th>\n",
              "      <th>symboling</th>\n",
              "      <th>normalized-losses</th>\n",
              "      <th>make</th>\n",
              "      <th>aspiration</th>\n",
              "      <th>num-of-doors</th>\n",
              "      <th>body-style</th>\n",
              "      <th>drive-wheels</th>\n",
              "      <th>engine-location</th>\n",
              "      <th>wheel-base</th>\n",
              "      <th>length</th>\n",
              "      <th>width</th>\n",
              "      <th>height</th>\n",
              "      <th>curb-weight</th>\n",
              "      <th>engine-type</th>\n",
              "      <th>num-of-cylinders</th>\n",
              "      <th>engine-size</th>\n",
              "      <th>fuel-system</th>\n",
              "      <th>bore</th>\n",
              "      <th>stroke</th>\n",
              "      <th>compression-ratio</th>\n",
              "      <th>horsepower</th>\n",
              "      <th>peak-rpm</th>\n",
              "      <th>city-mpg</th>\n",
              "      <th>highway-mpg</th>\n",
              "      <th>price</th>\n",
              "      <th>city-L/100km</th>\n",
              "      <th>horsepower-binned</th>\n",
              "      <th>diesel</th>\n",
              "      <th>gas</th>\n",
              "    </tr>\n",
              "  </thead>\n",
              "  <tbody>\n",
              "    <tr>\n",
              "      <th>0</th>\n",
              "      <td>3</td>\n",
              "      <td>122</td>\n",
              "      <td>alfa-romero</td>\n",
              "      <td>std</td>\n",
              "      <td>two</td>\n",
              "      <td>convertible</td>\n",
              "      <td>rwd</td>\n",
              "      <td>front</td>\n",
              "      <td>88.6</td>\n",
              "      <td>0.811148</td>\n",
              "      <td>0.890278</td>\n",
              "      <td>48.8</td>\n",
              "      <td>2548</td>\n",
              "      <td>dohc</td>\n",
              "      <td>four</td>\n",
              "      <td>130</td>\n",
              "      <td>mpfi</td>\n",
              "      <td>3.47</td>\n",
              "      <td>2.68</td>\n",
              "      <td>9.0</td>\n",
              "      <td>111.0</td>\n",
              "      <td>5000.0</td>\n",
              "      <td>21</td>\n",
              "      <td>27</td>\n",
              "      <td>13495.0</td>\n",
              "      <td>11.190476</td>\n",
              "      <td>Medium</td>\n",
              "      <td>0</td>\n",
              "      <td>1</td>\n",
              "    </tr>\n",
              "    <tr>\n",
              "      <th>1</th>\n",
              "      <td>3</td>\n",
              "      <td>122</td>\n",
              "      <td>alfa-romero</td>\n",
              "      <td>std</td>\n",
              "      <td>two</td>\n",
              "      <td>convertible</td>\n",
              "      <td>rwd</td>\n",
              "      <td>front</td>\n",
              "      <td>88.6</td>\n",
              "      <td>0.811148</td>\n",
              "      <td>0.890278</td>\n",
              "      <td>48.8</td>\n",
              "      <td>2548</td>\n",
              "      <td>dohc</td>\n",
              "      <td>four</td>\n",
              "      <td>130</td>\n",
              "      <td>mpfi</td>\n",
              "      <td>3.47</td>\n",
              "      <td>2.68</td>\n",
              "      <td>9.0</td>\n",
              "      <td>111.0</td>\n",
              "      <td>5000.0</td>\n",
              "      <td>21</td>\n",
              "      <td>27</td>\n",
              "      <td>16500.0</td>\n",
              "      <td>11.190476</td>\n",
              "      <td>Medium</td>\n",
              "      <td>0</td>\n",
              "      <td>1</td>\n",
              "    </tr>\n",
              "    <tr>\n",
              "      <th>2</th>\n",
              "      <td>1</td>\n",
              "      <td>122</td>\n",
              "      <td>alfa-romero</td>\n",
              "      <td>std</td>\n",
              "      <td>two</td>\n",
              "      <td>hatchback</td>\n",
              "      <td>rwd</td>\n",
              "      <td>front</td>\n",
              "      <td>94.5</td>\n",
              "      <td>0.822681</td>\n",
              "      <td>0.909722</td>\n",
              "      <td>52.4</td>\n",
              "      <td>2823</td>\n",
              "      <td>ohcv</td>\n",
              "      <td>six</td>\n",
              "      <td>152</td>\n",
              "      <td>mpfi</td>\n",
              "      <td>2.68</td>\n",
              "      <td>3.47</td>\n",
              "      <td>9.0</td>\n",
              "      <td>154.0</td>\n",
              "      <td>5000.0</td>\n",
              "      <td>19</td>\n",
              "      <td>26</td>\n",
              "      <td>16500.0</td>\n",
              "      <td>12.368421</td>\n",
              "      <td>Medium</td>\n",
              "      <td>0</td>\n",
              "      <td>1</td>\n",
              "    </tr>\n",
              "    <tr>\n",
              "      <th>3</th>\n",
              "      <td>2</td>\n",
              "      <td>164</td>\n",
              "      <td>audi</td>\n",
              "      <td>std</td>\n",
              "      <td>four</td>\n",
              "      <td>sedan</td>\n",
              "      <td>fwd</td>\n",
              "      <td>front</td>\n",
              "      <td>99.8</td>\n",
              "      <td>0.848630</td>\n",
              "      <td>0.919444</td>\n",
              "      <td>54.3</td>\n",
              "      <td>2337</td>\n",
              "      <td>ohc</td>\n",
              "      <td>four</td>\n",
              "      <td>109</td>\n",
              "      <td>mpfi</td>\n",
              "      <td>3.19</td>\n",
              "      <td>3.40</td>\n",
              "      <td>10.0</td>\n",
              "      <td>102.0</td>\n",
              "      <td>5500.0</td>\n",
              "      <td>24</td>\n",
              "      <td>30</td>\n",
              "      <td>13950.0</td>\n",
              "      <td>9.791667</td>\n",
              "      <td>Medium</td>\n",
              "      <td>0</td>\n",
              "      <td>1</td>\n",
              "    </tr>\n",
              "    <tr>\n",
              "      <th>4</th>\n",
              "      <td>2</td>\n",
              "      <td>164</td>\n",
              "      <td>audi</td>\n",
              "      <td>std</td>\n",
              "      <td>four</td>\n",
              "      <td>sedan</td>\n",
              "      <td>4wd</td>\n",
              "      <td>front</td>\n",
              "      <td>99.4</td>\n",
              "      <td>0.848630</td>\n",
              "      <td>0.922222</td>\n",
              "      <td>54.3</td>\n",
              "      <td>2824</td>\n",
              "      <td>ohc</td>\n",
              "      <td>five</td>\n",
              "      <td>136</td>\n",
              "      <td>mpfi</td>\n",
              "      <td>3.19</td>\n",
              "      <td>3.40</td>\n",
              "      <td>8.0</td>\n",
              "      <td>115.0</td>\n",
              "      <td>5500.0</td>\n",
              "      <td>18</td>\n",
              "      <td>22</td>\n",
              "      <td>17450.0</td>\n",
              "      <td>13.055556</td>\n",
              "      <td>Medium</td>\n",
              "      <td>0</td>\n",
              "      <td>1</td>\n",
              "    </tr>\n",
              "  </tbody>\n",
              "</table>\n",
              "</div>"
            ],
            "text/plain": [
              "   symboling  normalized-losses         make  ... horsepower-binned diesel gas\n",
              "0          3                122  alfa-romero  ...            Medium      0   1\n",
              "1          3                122  alfa-romero  ...            Medium      0   1\n",
              "2          1                122  alfa-romero  ...            Medium      0   1\n",
              "3          2                164         audi  ...            Medium      0   1\n",
              "4          2                164         audi  ...            Medium      0   1\n",
              "\n",
              "[5 rows x 29 columns]"
            ]
          },
          "metadata": {
            "tags": []
          },
          "execution_count": 6
        }
      ]
    },
    {
      "cell_type": "markdown",
      "metadata": {
        "id": "h9FAUthfNbBh",
        "colab_type": "text"
      },
      "source": [
        "![image.png](data:image/png;base64,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)"
      ]
    },
    {
      "cell_type": "code",
      "metadata": {
        "id": "GpyBNvriw6rS",
        "colab_type": "code",
        "colab": {
          "base_uri": "https://localhost:8080/",
          "height": 85
        },
        "outputId": "543c46c8-a9dd-46d7-f5ef-873e0ef247ff"
      },
      "source": [
        "### Conocer los valores unicos de un atributo\n",
        "df.make.unique()"
      ],
      "execution_count": 7,
      "outputs": [
        {
          "output_type": "execute_result",
          "data": {
            "text/plain": [
              "array(['alfa-romero', 'audi', 'bmw', 'chevrolet', 'dodge', 'honda',\n",
              "       'isuzu', 'jaguar', 'mazda', 'mercedes-benz', 'mercury',\n",
              "       'mitsubishi', 'nissan', 'peugot', 'plymouth', 'porsche', 'renault',\n",
              "       'saab', 'subaru', 'toyota', 'volkswagen', 'volvo'], dtype=object)"
            ]
          },
          "metadata": {
            "tags": []
          },
          "execution_count": 7
        }
      ]
    },
    {
      "cell_type": "code",
      "metadata": {
        "id": "xaU7O8coLhGO",
        "colab_type": "code",
        "colab": {}
      },
      "source": [
        "%%capture\n",
        "### Instalar seaborn que es un paquete usado para visualización\n",
        "! pip install seaborn"
      ],
      "execution_count": 8,
      "outputs": []
    },
    {
      "cell_type": "code",
      "metadata": {
        "jupyter": {
          "outputs_hidden": false
        },
        "id": "sI_9zRmyLhGV",
        "colab_type": "code",
        "colab": {
          "base_uri": "https://localhost:8080/",
          "height": 71
        },
        "outputId": "b06d0f6b-e90a-4f36-f440-2c5e96259076"
      },
      "source": [
        "### Importar matplotlib\n",
        "import matplotlib.pyplot as plt\n",
        "### Importar Seaborn\n",
        "import seaborn as sns\n",
        "### Para efectuar plot en un notebook\n",
        "%matplotlib inline "
      ],
      "execution_count": 9,
      "outputs": [
        {
          "output_type": "stream",
          "text": [
            "/usr/local/lib/python3.6/dist-packages/statsmodels/tools/_testing.py:19: FutureWarning: pandas.util.testing is deprecated. Use the functions in the public API at pandas.testing instead.\n",
            "  import pandas.util.testing as tm\n"
          ],
          "name": "stderr"
        }
      ]
    },
    {
      "cell_type": "markdown",
      "metadata": {
        "id": "h-tow6yMLhGd",
        "colab_type": "text"
      },
      "source": [
        "<p>Cuando se estan visualizando variables, es importante conocer que tipo de dato tiene cada variable, para ello se usa la propiedad dtypes del dataframe.</p>\n",
        "\n"
      ]
    },
    {
      "cell_type": "code",
      "metadata": {
        "jupyter": {
          "outputs_hidden": false
        },
        "id": "8P1ves0ALhGg",
        "colab_type": "code",
        "colab": {
          "base_uri": "https://localhost:8080/",
          "height": 527
        },
        "outputId": "7893083c-aa3c-48b8-cf7b-86ffbcc0cb6c"
      },
      "source": [
        "# list the data types for each column\n",
        "print(df.dtypes)"
      ],
      "execution_count": 10,
      "outputs": [
        {
          "output_type": "stream",
          "text": [
            "symboling              int64\n",
            "normalized-losses      int64\n",
            "make                  object\n",
            "aspiration            object\n",
            "num-of-doors          object\n",
            "body-style            object\n",
            "drive-wheels          object\n",
            "engine-location       object\n",
            "wheel-base           float64\n",
            "length               float64\n",
            "width                float64\n",
            "height               float64\n",
            "curb-weight            int64\n",
            "engine-type           object\n",
            "num-of-cylinders      object\n",
            "engine-size            int64\n",
            "fuel-system           object\n",
            "bore                 float64\n",
            "stroke               float64\n",
            "compression-ratio    float64\n",
            "horsepower           float64\n",
            "peak-rpm             float64\n",
            "city-mpg               int64\n",
            "highway-mpg            int64\n",
            "price                float64\n",
            "city-L/100km         float64\n",
            "horsepower-binned     object\n",
            "diesel                 int64\n",
            "gas                    int64\n",
            "dtype: object\n"
          ],
          "name": "stdout"
        }
      ]
    },
    {
      "cell_type": "markdown",
      "metadata": {
        "id": "jXnNAob3LhI5",
        "colab_type": "text"
      },
      "source": [
        "<h2 id=\"discriptive_statistics\">Análisis Descriptivo Estadístico</h2>"
      ]
    },
    {
      "cell_type": "markdown",
      "metadata": {
        "id": "c168uNMhLhI6",
        "colab_type": "text"
      },
      "source": [
        "\n",
        "<p>La función describe() calcula las estadísticas básicas para todas las variables continuas. Cualquier valor NaN (Not a Number) es saltado automaticamente en esas estadísticas</p>\n",
        "\n",
        "This will show:\n",
        "<ul>\n",
        "    <li>El conteo de la variable. Cuantos valores tiene la variable</li>\n",
        "    <li>La media</li>\n",
        "    <li>La desviación estándar (std)</li> \n",
        "    <li>El valor mínimo</li>\n",
        "    <li>El rango intercuartil IQR (Interquartile Range: 25%, 50% and 75%)</li>\n",
        "    <li>El valor máximo</li>\n",
        "<ul>\n"
      ]
    },
    {
      "cell_type": "markdown",
      "metadata": {
        "id": "HoHaSqTuLhI6",
        "colab_type": "text"
      },
      "source": [
        " La función \"describe\" se invoca como se muestra a continuación:"
      ]
    },
    {
      "cell_type": "code",
      "metadata": {
        "jupyter": {
          "outputs_hidden": false
        },
        "id": "z1YWgdqqLhI7",
        "colab_type": "code",
        "colab": {
          "base_uri": "https://localhost:8080/",
          "height": 334
        },
        "outputId": "43e8636d-ef1a-41ba-aab3-7c8b6663a391"
      },
      "source": [
        "df.describe()"
      ],
      "execution_count": 11,
      "outputs": [
        {
          "output_type": "execute_result",
          "data": {
            "text/html": [
              "<div>\n",
              "<style scoped>\n",
              "    .dataframe tbody tr th:only-of-type {\n",
              "        vertical-align: middle;\n",
              "    }\n",
              "\n",
              "    .dataframe tbody tr th {\n",
              "        vertical-align: top;\n",
              "    }\n",
              "\n",
              "    .dataframe thead th {\n",
              "        text-align: right;\n",
              "    }\n",
              "</style>\n",
              "<table border=\"1\" class=\"dataframe\">\n",
              "  <thead>\n",
              "    <tr style=\"text-align: right;\">\n",
              "      <th></th>\n",
              "      <th>symboling</th>\n",
              "      <th>normalized-losses</th>\n",
              "      <th>wheel-base</th>\n",
              "      <th>length</th>\n",
              "      <th>width</th>\n",
              "      <th>height</th>\n",
              "      <th>curb-weight</th>\n",
              "      <th>engine-size</th>\n",
              "      <th>bore</th>\n",
              "      <th>stroke</th>\n",
              "      <th>compression-ratio</th>\n",
              "      <th>horsepower</th>\n",
              "      <th>peak-rpm</th>\n",
              "      <th>city-mpg</th>\n",
              "      <th>highway-mpg</th>\n",
              "      <th>price</th>\n",
              "      <th>city-L/100km</th>\n",
              "      <th>diesel</th>\n",
              "      <th>gas</th>\n",
              "    </tr>\n",
              "  </thead>\n",
              "  <tbody>\n",
              "    <tr>\n",
              "      <th>count</th>\n",
              "      <td>201.000000</td>\n",
              "      <td>201.00000</td>\n",
              "      <td>201.000000</td>\n",
              "      <td>201.000000</td>\n",
              "      <td>201.000000</td>\n",
              "      <td>201.000000</td>\n",
              "      <td>201.000000</td>\n",
              "      <td>201.000000</td>\n",
              "      <td>201.000000</td>\n",
              "      <td>197.000000</td>\n",
              "      <td>201.000000</td>\n",
              "      <td>201.000000</td>\n",
              "      <td>201.000000</td>\n",
              "      <td>201.000000</td>\n",
              "      <td>201.000000</td>\n",
              "      <td>201.000000</td>\n",
              "      <td>201.000000</td>\n",
              "      <td>201.000000</td>\n",
              "      <td>201.000000</td>\n",
              "    </tr>\n",
              "    <tr>\n",
              "      <th>mean</th>\n",
              "      <td>0.840796</td>\n",
              "      <td>122.00000</td>\n",
              "      <td>98.797015</td>\n",
              "      <td>0.837102</td>\n",
              "      <td>0.915126</td>\n",
              "      <td>53.766667</td>\n",
              "      <td>2555.666667</td>\n",
              "      <td>126.875622</td>\n",
              "      <td>3.330692</td>\n",
              "      <td>3.256904</td>\n",
              "      <td>10.164279</td>\n",
              "      <td>103.405534</td>\n",
              "      <td>5117.665368</td>\n",
              "      <td>25.179104</td>\n",
              "      <td>30.686567</td>\n",
              "      <td>13207.129353</td>\n",
              "      <td>9.944145</td>\n",
              "      <td>0.099502</td>\n",
              "      <td>0.900498</td>\n",
              "    </tr>\n",
              "    <tr>\n",
              "      <th>std</th>\n",
              "      <td>1.254802</td>\n",
              "      <td>31.99625</td>\n",
              "      <td>6.066366</td>\n",
              "      <td>0.059213</td>\n",
              "      <td>0.029187</td>\n",
              "      <td>2.447822</td>\n",
              "      <td>517.296727</td>\n",
              "      <td>41.546834</td>\n",
              "      <td>0.268072</td>\n",
              "      <td>0.319256</td>\n",
              "      <td>4.004965</td>\n",
              "      <td>37.365700</td>\n",
              "      <td>478.113805</td>\n",
              "      <td>6.423220</td>\n",
              "      <td>6.815150</td>\n",
              "      <td>7947.066342</td>\n",
              "      <td>2.534599</td>\n",
              "      <td>0.300083</td>\n",
              "      <td>0.300083</td>\n",
              "    </tr>\n",
              "    <tr>\n",
              "      <th>min</th>\n",
              "      <td>-2.000000</td>\n",
              "      <td>65.00000</td>\n",
              "      <td>86.600000</td>\n",
              "      <td>0.678039</td>\n",
              "      <td>0.837500</td>\n",
              "      <td>47.800000</td>\n",
              "      <td>1488.000000</td>\n",
              "      <td>61.000000</td>\n",
              "      <td>2.540000</td>\n",
              "      <td>2.070000</td>\n",
              "      <td>7.000000</td>\n",
              "      <td>48.000000</td>\n",
              "      <td>4150.000000</td>\n",
              "      <td>13.000000</td>\n",
              "      <td>16.000000</td>\n",
              "      <td>5118.000000</td>\n",
              "      <td>4.795918</td>\n",
              "      <td>0.000000</td>\n",
              "      <td>0.000000</td>\n",
              "    </tr>\n",
              "    <tr>\n",
              "      <th>25%</th>\n",
              "      <td>0.000000</td>\n",
              "      <td>101.00000</td>\n",
              "      <td>94.500000</td>\n",
              "      <td>0.801538</td>\n",
              "      <td>0.890278</td>\n",
              "      <td>52.000000</td>\n",
              "      <td>2169.000000</td>\n",
              "      <td>98.000000</td>\n",
              "      <td>3.150000</td>\n",
              "      <td>3.110000</td>\n",
              "      <td>8.600000</td>\n",
              "      <td>70.000000</td>\n",
              "      <td>4800.000000</td>\n",
              "      <td>19.000000</td>\n",
              "      <td>25.000000</td>\n",
              "      <td>7775.000000</td>\n",
              "      <td>7.833333</td>\n",
              "      <td>0.000000</td>\n",
              "      <td>1.000000</td>\n",
              "    </tr>\n",
              "    <tr>\n",
              "      <th>50%</th>\n",
              "      <td>1.000000</td>\n",
              "      <td>122.00000</td>\n",
              "      <td>97.000000</td>\n",
              "      <td>0.832292</td>\n",
              "      <td>0.909722</td>\n",
              "      <td>54.100000</td>\n",
              "      <td>2414.000000</td>\n",
              "      <td>120.000000</td>\n",
              "      <td>3.310000</td>\n",
              "      <td>3.290000</td>\n",
              "      <td>9.000000</td>\n",
              "      <td>95.000000</td>\n",
              "      <td>5125.369458</td>\n",
              "      <td>24.000000</td>\n",
              "      <td>30.000000</td>\n",
              "      <td>10295.000000</td>\n",
              "      <td>9.791667</td>\n",
              "      <td>0.000000</td>\n",
              "      <td>1.000000</td>\n",
              "    </tr>\n",
              "    <tr>\n",
              "      <th>75%</th>\n",
              "      <td>2.000000</td>\n",
              "      <td>137.00000</td>\n",
              "      <td>102.400000</td>\n",
              "      <td>0.881788</td>\n",
              "      <td>0.925000</td>\n",
              "      <td>55.500000</td>\n",
              "      <td>2926.000000</td>\n",
              "      <td>141.000000</td>\n",
              "      <td>3.580000</td>\n",
              "      <td>3.410000</td>\n",
              "      <td>9.400000</td>\n",
              "      <td>116.000000</td>\n",
              "      <td>5500.000000</td>\n",
              "      <td>30.000000</td>\n",
              "      <td>34.000000</td>\n",
              "      <td>16500.000000</td>\n",
              "      <td>12.368421</td>\n",
              "      <td>0.000000</td>\n",
              "      <td>1.000000</td>\n",
              "    </tr>\n",
              "    <tr>\n",
              "      <th>max</th>\n",
              "      <td>3.000000</td>\n",
              "      <td>256.00000</td>\n",
              "      <td>120.900000</td>\n",
              "      <td>1.000000</td>\n",
              "      <td>1.000000</td>\n",
              "      <td>59.800000</td>\n",
              "      <td>4066.000000</td>\n",
              "      <td>326.000000</td>\n",
              "      <td>3.940000</td>\n",
              "      <td>4.170000</td>\n",
              "      <td>23.000000</td>\n",
              "      <td>262.000000</td>\n",
              "      <td>6600.000000</td>\n",
              "      <td>49.000000</td>\n",
              "      <td>54.000000</td>\n",
              "      <td>45400.000000</td>\n",
              "      <td>18.076923</td>\n",
              "      <td>1.000000</td>\n",
              "      <td>1.000000</td>\n",
              "    </tr>\n",
              "  </tbody>\n",
              "</table>\n",
              "</div>"
            ],
            "text/plain": [
              "        symboling  normalized-losses  ...      diesel         gas\n",
              "count  201.000000          201.00000  ...  201.000000  201.000000\n",
              "mean     0.840796          122.00000  ...    0.099502    0.900498\n",
              "std      1.254802           31.99625  ...    0.300083    0.300083\n",
              "min     -2.000000           65.00000  ...    0.000000    0.000000\n",
              "25%      0.000000          101.00000  ...    0.000000    1.000000\n",
              "50%      1.000000          122.00000  ...    0.000000    1.000000\n",
              "75%      2.000000          137.00000  ...    0.000000    1.000000\n",
              "max      3.000000          256.00000  ...    1.000000    1.000000\n",
              "\n",
              "[8 rows x 19 columns]"
            ]
          },
          "metadata": {
            "tags": []
          },
          "execution_count": 11
        }
      ]
    },
    {
      "cell_type": "markdown",
      "metadata": {
        "id": "adffcoQRLhJN",
        "colab_type": "text"
      },
      "source": [
        "<h3>Value Counts. Conteo por cada categoría, Esto aplica para variables categóricas</h3>"
      ]
    },
    {
      "cell_type": "code",
      "metadata": {
        "jupyter": {
          "outputs_hidden": false
        },
        "id": "3DndS-wKLhJR",
        "colab_type": "code",
        "colab": {
          "base_uri": "https://localhost:8080/",
          "height": 85
        },
        "outputId": "46ad10e7-6a37-4f2e-ac13-0225244e296f"
      },
      "source": [
        "df['drive-wheels'].value_counts()"
      ],
      "execution_count": 12,
      "outputs": [
        {
          "output_type": "execute_result",
          "data": {
            "text/plain": [
              "fwd    118\n",
              "rwd     75\n",
              "4wd      8\n",
              "Name: drive-wheels, dtype: int64"
            ]
          },
          "metadata": {
            "tags": []
          },
          "execution_count": 12
        }
      ]
    },
    {
      "cell_type": "markdown",
      "metadata": {
        "id": "E5zeUAOuLhJY",
        "colab_type": "text"
      },
      "source": [
        "Podemos convertir la serie anterior en un dataframe :"
      ]
    },
    {
      "cell_type": "code",
      "metadata": {
        "jupyter": {
          "outputs_hidden": false
        },
        "id": "xEKUeiUsLhJZ",
        "colab_type": "code",
        "colab": {
          "base_uri": "https://localhost:8080/",
          "height": 142
        },
        "outputId": "81987e74-8b95-457d-bce4-1f5ee06660c6"
      },
      "source": [
        "### Valores que tiene la variable drive-wheels desplegados como un dataframe\n",
        "df['drive-wheels'].value_counts().to_frame()"
      ],
      "execution_count": 13,
      "outputs": [
        {
          "output_type": "execute_result",
          "data": {
            "text/html": [
              "<div>\n",
              "<style scoped>\n",
              "    .dataframe tbody tr th:only-of-type {\n",
              "        vertical-align: middle;\n",
              "    }\n",
              "\n",
              "    .dataframe tbody tr th {\n",
              "        vertical-align: top;\n",
              "    }\n",
              "\n",
              "    .dataframe thead th {\n",
              "        text-align: right;\n",
              "    }\n",
              "</style>\n",
              "<table border=\"1\" class=\"dataframe\">\n",
              "  <thead>\n",
              "    <tr style=\"text-align: right;\">\n",
              "      <th></th>\n",
              "      <th>drive-wheels</th>\n",
              "    </tr>\n",
              "  </thead>\n",
              "  <tbody>\n",
              "    <tr>\n",
              "      <th>fwd</th>\n",
              "      <td>118</td>\n",
              "    </tr>\n",
              "    <tr>\n",
              "      <th>rwd</th>\n",
              "      <td>75</td>\n",
              "    </tr>\n",
              "    <tr>\n",
              "      <th>4wd</th>\n",
              "      <td>8</td>\n",
              "    </tr>\n",
              "  </tbody>\n",
              "</table>\n",
              "</div>"
            ],
            "text/plain": [
              "     drive-wheels\n",
              "fwd           118\n",
              "rwd            75\n",
              "4wd             8"
            ]
          },
          "metadata": {
            "tags": []
          },
          "execution_count": 13
        }
      ]
    },
    {
      "cell_type": "markdown",
      "metadata": {
        "id": "pV6TQ0aSLhJ3",
        "colab_type": "text"
      },
      "source": [
        "<h2 id=\"basic_grouping\">Agrupamiento (Groupby)</h2>"
      ]
    },
    {
      "cell_type": "markdown",
      "metadata": {
        "id": "zNEcrxatLhJ4",
        "colab_type": "text"
      },
      "source": [
        "<p>El método GroupBy agrupa datos por diferentes categorías.</p>\n",
        "\n",
        "<p>Por ejemplo vamos a agrupar la variable \"drive-wheels\" y el \"price\".</p>"
      ]
    },
    {
      "cell_type": "code",
      "metadata": {
        "jupyter": {
          "outputs_hidden": false
        },
        "id": "qR7ryYfALhJ5",
        "colab_type": "code",
        "colab": {
          "base_uri": "https://localhost:8080/",
          "height": 142
        },
        "outputId": "0d87a18f-746b-422e-b532-09d3252ee489"
      },
      "source": [
        "df_group_one = df[['drive-wheels','price']]\n",
        "df_group_one = df_group_one.groupby(['drive-wheels'],as_index=False).mean()\n",
        "df_group_one"
      ],
      "execution_count": null,
      "outputs": [
        {
          "output_type": "execute_result",
          "data": {
            "text/html": [
              "<div>\n",
              "<style scoped>\n",
              "    .dataframe tbody tr th:only-of-type {\n",
              "        vertical-align: middle;\n",
              "    }\n",
              "\n",
              "    .dataframe tbody tr th {\n",
              "        vertical-align: top;\n",
              "    }\n",
              "\n",
              "    .dataframe thead th {\n",
              "        text-align: right;\n",
              "    }\n",
              "</style>\n",
              "<table border=\"1\" class=\"dataframe\">\n",
              "  <thead>\n",
              "    <tr style=\"text-align: right;\">\n",
              "      <th></th>\n",
              "      <th>drive-wheels</th>\n",
              "      <th>price</th>\n",
              "    </tr>\n",
              "  </thead>\n",
              "  <tbody>\n",
              "    <tr>\n",
              "      <th>0</th>\n",
              "      <td>4wd</td>\n",
              "      <td>10241.000000</td>\n",
              "    </tr>\n",
              "    <tr>\n",
              "      <th>1</th>\n",
              "      <td>fwd</td>\n",
              "      <td>9244.779661</td>\n",
              "    </tr>\n",
              "    <tr>\n",
              "      <th>2</th>\n",
              "      <td>rwd</td>\n",
              "      <td>19757.613333</td>\n",
              "    </tr>\n",
              "  </tbody>\n",
              "</table>\n",
              "</div>"
            ],
            "text/plain": [
              "  drive-wheels         price\n",
              "0          4wd  10241.000000\n",
              "1          fwd   9244.779661\n",
              "2          rwd  19757.613333"
            ]
          },
          "metadata": {
            "tags": []
          },
          "execution_count": 16
        }
      ]
    },
    {
      "cell_type": "markdown",
      "metadata": {
        "id": "dGeh6pvDLhKD",
        "colab_type": "text"
      },
      "source": [
        "<p>Ahora vamos a agrupar por las variables 'drive-wheels', 'body-style' and 'price'.</p>"
      ]
    },
    {
      "cell_type": "code",
      "metadata": {
        "id": "tp084WEkLhKD",
        "colab_type": "code",
        "colab": {
          "base_uri": "https://localhost:8080/",
          "height": 452
        },
        "outputId": "cb09e181-6286-45f8-cccf-b11ccf1ff333"
      },
      "source": [
        "df_group_two = df[['drive-wheels','body-style','price']]\n",
        "df_group_two = df_group_two.groupby(['drive-wheels','body-style'],as_index=False).mean()\n",
        "df_group_two"
      ],
      "execution_count": 15,
      "outputs": [
        {
          "output_type": "execute_result",
          "data": {
            "text/html": [
              "<div>\n",
              "<style scoped>\n",
              "    .dataframe tbody tr th:only-of-type {\n",
              "        vertical-align: middle;\n",
              "    }\n",
              "\n",
              "    .dataframe tbody tr th {\n",
              "        vertical-align: top;\n",
              "    }\n",
              "\n",
              "    .dataframe thead th {\n",
              "        text-align: right;\n",
              "    }\n",
              "</style>\n",
              "<table border=\"1\" class=\"dataframe\">\n",
              "  <thead>\n",
              "    <tr style=\"text-align: right;\">\n",
              "      <th></th>\n",
              "      <th>drive-wheels</th>\n",
              "      <th>body-style</th>\n",
              "      <th>price</th>\n",
              "    </tr>\n",
              "  </thead>\n",
              "  <tbody>\n",
              "    <tr>\n",
              "      <th>0</th>\n",
              "      <td>4wd</td>\n",
              "      <td>hatchback</td>\n",
              "      <td>7603.000000</td>\n",
              "    </tr>\n",
              "    <tr>\n",
              "      <th>1</th>\n",
              "      <td>4wd</td>\n",
              "      <td>sedan</td>\n",
              "      <td>12647.333333</td>\n",
              "    </tr>\n",
              "    <tr>\n",
              "      <th>2</th>\n",
              "      <td>4wd</td>\n",
              "      <td>wagon</td>\n",
              "      <td>9095.750000</td>\n",
              "    </tr>\n",
              "    <tr>\n",
              "      <th>3</th>\n",
              "      <td>fwd</td>\n",
              "      <td>convertible</td>\n",
              "      <td>11595.000000</td>\n",
              "    </tr>\n",
              "    <tr>\n",
              "      <th>4</th>\n",
              "      <td>fwd</td>\n",
              "      <td>hardtop</td>\n",
              "      <td>8249.000000</td>\n",
              "    </tr>\n",
              "    <tr>\n",
              "      <th>5</th>\n",
              "      <td>fwd</td>\n",
              "      <td>hatchback</td>\n",
              "      <td>8396.387755</td>\n",
              "    </tr>\n",
              "    <tr>\n",
              "      <th>6</th>\n",
              "      <td>fwd</td>\n",
              "      <td>sedan</td>\n",
              "      <td>9811.800000</td>\n",
              "    </tr>\n",
              "    <tr>\n",
              "      <th>7</th>\n",
              "      <td>fwd</td>\n",
              "      <td>wagon</td>\n",
              "      <td>9997.333333</td>\n",
              "    </tr>\n",
              "    <tr>\n",
              "      <th>8</th>\n",
              "      <td>rwd</td>\n",
              "      <td>convertible</td>\n",
              "      <td>23949.600000</td>\n",
              "    </tr>\n",
              "    <tr>\n",
              "      <th>9</th>\n",
              "      <td>rwd</td>\n",
              "      <td>hardtop</td>\n",
              "      <td>24202.714286</td>\n",
              "    </tr>\n",
              "    <tr>\n",
              "      <th>10</th>\n",
              "      <td>rwd</td>\n",
              "      <td>hatchback</td>\n",
              "      <td>14337.777778</td>\n",
              "    </tr>\n",
              "    <tr>\n",
              "      <th>11</th>\n",
              "      <td>rwd</td>\n",
              "      <td>sedan</td>\n",
              "      <td>21711.833333</td>\n",
              "    </tr>\n",
              "    <tr>\n",
              "      <th>12</th>\n",
              "      <td>rwd</td>\n",
              "      <td>wagon</td>\n",
              "      <td>16994.222222</td>\n",
              "    </tr>\n",
              "  </tbody>\n",
              "</table>\n",
              "</div>"
            ],
            "text/plain": [
              "   drive-wheels   body-style         price\n",
              "0           4wd    hatchback   7603.000000\n",
              "1           4wd        sedan  12647.333333\n",
              "2           4wd        wagon   9095.750000\n",
              "3           fwd  convertible  11595.000000\n",
              "4           fwd      hardtop   8249.000000\n",
              "5           fwd    hatchback   8396.387755\n",
              "6           fwd        sedan   9811.800000\n",
              "7           fwd        wagon   9997.333333\n",
              "8           rwd  convertible  23949.600000\n",
              "9           rwd      hardtop  24202.714286\n",
              "10          rwd    hatchback  14337.777778\n",
              "11          rwd        sedan  21711.833333\n",
              "12          rwd        wagon  16994.222222"
            ]
          },
          "metadata": {
            "tags": []
          },
          "execution_count": 15
        }
      ]
    },
    {
      "cell_type": "markdown",
      "metadata": {
        "id": "5YdoWMfkLhKn",
        "colab_type": "text"
      },
      "source": [
        "<p>Estos datos agrupados son más faciles de observar utilizando una tabla privot, como en excel.</p>\n"
      ]
    },
    {
      "cell_type": "code",
      "metadata": {
        "jupyter": {
          "outputs_hidden": false
        },
        "id": "ZYIbTLl6LhKo",
        "colab_type": "code",
        "colab": {
          "base_uri": "https://localhost:8080/",
          "height": 204
        },
        "outputId": "25026626-e322-4fc2-c4fe-d690a5cb6b1e"
      },
      "source": [
        "grouped_pivot = df_group_two.pivot(index='drive-wheels',columns='body-style')\n",
        "grouped_pivot"
      ],
      "execution_count": 17,
      "outputs": [
        {
          "output_type": "execute_result",
          "data": {
            "text/html": [
              "<div>\n",
              "<style scoped>\n",
              "    .dataframe tbody tr th:only-of-type {\n",
              "        vertical-align: middle;\n",
              "    }\n",
              "\n",
              "    .dataframe tbody tr th {\n",
              "        vertical-align: top;\n",
              "    }\n",
              "\n",
              "    .dataframe thead tr th {\n",
              "        text-align: left;\n",
              "    }\n",
              "\n",
              "    .dataframe thead tr:last-of-type th {\n",
              "        text-align: right;\n",
              "    }\n",
              "</style>\n",
              "<table border=\"1\" class=\"dataframe\">\n",
              "  <thead>\n",
              "    <tr>\n",
              "      <th></th>\n",
              "      <th colspan=\"5\" halign=\"left\">price</th>\n",
              "    </tr>\n",
              "    <tr>\n",
              "      <th>body-style</th>\n",
              "      <th>convertible</th>\n",
              "      <th>hardtop</th>\n",
              "      <th>hatchback</th>\n",
              "      <th>sedan</th>\n",
              "      <th>wagon</th>\n",
              "    </tr>\n",
              "    <tr>\n",
              "      <th>drive-wheels</th>\n",
              "      <th></th>\n",
              "      <th></th>\n",
              "      <th></th>\n",
              "      <th></th>\n",
              "      <th></th>\n",
              "    </tr>\n",
              "  </thead>\n",
              "  <tbody>\n",
              "    <tr>\n",
              "      <th>4wd</th>\n",
              "      <td>NaN</td>\n",
              "      <td>NaN</td>\n",
              "      <td>7603.000000</td>\n",
              "      <td>12647.333333</td>\n",
              "      <td>9095.750000</td>\n",
              "    </tr>\n",
              "    <tr>\n",
              "      <th>fwd</th>\n",
              "      <td>11595.0</td>\n",
              "      <td>8249.000000</td>\n",
              "      <td>8396.387755</td>\n",
              "      <td>9811.800000</td>\n",
              "      <td>9997.333333</td>\n",
              "    </tr>\n",
              "    <tr>\n",
              "      <th>rwd</th>\n",
              "      <td>23949.6</td>\n",
              "      <td>24202.714286</td>\n",
              "      <td>14337.777778</td>\n",
              "      <td>21711.833333</td>\n",
              "      <td>16994.222222</td>\n",
              "    </tr>\n",
              "  </tbody>\n",
              "</table>\n",
              "</div>"
            ],
            "text/plain": [
              "                   price                ...                            \n",
              "body-style   convertible       hardtop  ...         sedan         wagon\n",
              "drive-wheels                            ...                            \n",
              "4wd                  NaN           NaN  ...  12647.333333   9095.750000\n",
              "fwd              11595.0   8249.000000  ...   9811.800000   9997.333333\n",
              "rwd              23949.6  24202.714286  ...  21711.833333  16994.222222\n",
              "\n",
              "[3 rows x 5 columns]"
            ]
          },
          "metadata": {
            "tags": []
          },
          "execution_count": 17
        }
      ]
    },
    {
      "cell_type": "markdown",
      "metadata": {
        "id": "3s_kuP7ALhK0",
        "colab_type": "text"
      },
      "source": [
        "<p>En ocasiones, no tenemos datos para algunas de las celdas, podemos llenar esos valores con ceros, aunque es posible completarlos con otro valor, lo más conveniente es efectuar corrección sobre los datos desde la fuente.</p>"
      ]
    },
    {
      "cell_type": "code",
      "metadata": {
        "jupyter": {
          "outputs_hidden": false
        },
        "scrolled": true,
        "id": "0_C5gyCfLhK2",
        "colab_type": "code",
        "colab": {
          "base_uri": "https://localhost:8080/",
          "height": 204
        },
        "outputId": "429bf98a-be6b-4d10-e701-d41e5461132d"
      },
      "source": [
        "#fill missing values with 0\n",
        "grouped_pivot = grouped_pivot.fillna(0) \n",
        "grouped_pivot"
      ],
      "execution_count": null,
      "outputs": [
        {
          "output_type": "execute_result",
          "data": {
            "text/html": [
              "<div>\n",
              "<style scoped>\n",
              "    .dataframe tbody tr th:only-of-type {\n",
              "        vertical-align: middle;\n",
              "    }\n",
              "\n",
              "    .dataframe tbody tr th {\n",
              "        vertical-align: top;\n",
              "    }\n",
              "\n",
              "    .dataframe thead tr th {\n",
              "        text-align: left;\n",
              "    }\n",
              "\n",
              "    .dataframe thead tr:last-of-type th {\n",
              "        text-align: right;\n",
              "    }\n",
              "</style>\n",
              "<table border=\"1\" class=\"dataframe\">\n",
              "  <thead>\n",
              "    <tr>\n",
              "      <th></th>\n",
              "      <th colspan=\"5\" halign=\"left\">price</th>\n",
              "    </tr>\n",
              "    <tr>\n",
              "      <th>body-style</th>\n",
              "      <th>convertible</th>\n",
              "      <th>hardtop</th>\n",
              "      <th>hatchback</th>\n",
              "      <th>sedan</th>\n",
              "      <th>wagon</th>\n",
              "    </tr>\n",
              "    <tr>\n",
              "      <th>drive-wheels</th>\n",
              "      <th></th>\n",
              "      <th></th>\n",
              "      <th></th>\n",
              "      <th></th>\n",
              "      <th></th>\n",
              "    </tr>\n",
              "  </thead>\n",
              "  <tbody>\n",
              "    <tr>\n",
              "      <th>4wd</th>\n",
              "      <td>0.0</td>\n",
              "      <td>0.000000</td>\n",
              "      <td>7603.000000</td>\n",
              "      <td>12647.333333</td>\n",
              "      <td>9095.750000</td>\n",
              "    </tr>\n",
              "    <tr>\n",
              "      <th>fwd</th>\n",
              "      <td>11595.0</td>\n",
              "      <td>8249.000000</td>\n",
              "      <td>8396.387755</td>\n",
              "      <td>9811.800000</td>\n",
              "      <td>9997.333333</td>\n",
              "    </tr>\n",
              "    <tr>\n",
              "      <th>rwd</th>\n",
              "      <td>23949.6</td>\n",
              "      <td>24202.714286</td>\n",
              "      <td>14337.777778</td>\n",
              "      <td>21711.833333</td>\n",
              "      <td>16994.222222</td>\n",
              "    </tr>\n",
              "  </tbody>\n",
              "</table>\n",
              "</div>"
            ],
            "text/plain": [
              "                   price                ...                            \n",
              "body-style   convertible       hardtop  ...         sedan         wagon\n",
              "drive-wheels                            ...                            \n",
              "4wd                  0.0      0.000000  ...  12647.333333   9095.750000\n",
              "fwd              11595.0   8249.000000  ...   9811.800000   9997.333333\n",
              "rwd              23949.6  24202.714286  ...  21711.833333  16994.222222\n",
              "\n",
              "[3 rows x 5 columns]"
            ]
          },
          "metadata": {
            "tags": []
          },
          "execution_count": 24
        }
      ]
    },
    {
      "cell_type": "code",
      "metadata": {
        "id": "Qaq6nD3ILhLN",
        "colab_type": "code",
        "colab": {}
      },
      "source": [
        "### Importar la libreria usada para visualización matplotlib\n",
        "import matplotlib.pyplot as plt\n",
        "%matplotlib inline "
      ],
      "execution_count": null,
      "outputs": []
    },
    {
      "cell_type": "markdown",
      "metadata": {
        "id": "7fsBVLZcLhLY",
        "colab_type": "text"
      },
      "source": [
        "Vamos a usar un mapa de calor para visualizar la relación entre las variables \"body-style\" y el \"price\""
      ]
    },
    {
      "cell_type": "code",
      "metadata": {
        "jupyter": {
          "outputs_hidden": false
        },
        "id": "1OHnaWCdLhLa",
        "colab_type": "code",
        "colab": {
          "base_uri": "https://localhost:8080/",
          "height": 269
        },
        "outputId": "c2e86cd4-2847-4b4c-d563-b6a5a0b7ed1e"
      },
      "source": [
        "### Mapa de calor sin etiquetas\n",
        "plt.pcolor(grouped_pivot, cmap='RdBu')\n",
        "plt.colorbar()\n",
        "plt.show()"
      ],
      "execution_count": null,
      "outputs": [
        {
          "output_type": "display_data",
          "data": {
            "image/png": "[encoded data removed]",
            "text/plain": [
              "<Figure size 432x288 with 2 Axes>"
            ]
          },
          "metadata": {
            "tags": [],
            "needs_background": "light"
          }
        }
      ]
    },
    {
      "cell_type": "markdown",
      "metadata": {
        "id": "QX0P6zDbLhLn",
        "colab_type": "text"
      },
      "source": [
        "<p>Mejoremos el etiquetado para observar la información de manera mas util:</p>"
      ]
    },
    {
      "cell_type": "code",
      "metadata": {
        "jupyter": {
          "outputs_hidden": false
        },
        "id": "AwjLQkjRLhLo",
        "colab_type": "code",
        "colab": {
          "base_uri": "https://localhost:8080/",
          "height": 311
        },
        "outputId": "8d83ad66-ccd7-4020-915d-91a668c625e7"
      },
      "source": [
        "fig, ax = plt.subplots()\n",
        "im = ax.pcolor(grouped_pivot, cmap='RdBu')\n",
        "\n",
        "#label names\n",
        "row_labels = grouped_pivot.columns.levels[1]\n",
        "col_labels = grouped_pivot.index\n",
        "\n",
        "#move ticks and labels to the center\n",
        "ax.set_xticks(np.arange(grouped_pivot.shape[1]) + 0.5, minor=False)\n",
        "ax.set_yticks(np.arange(grouped_pivot.shape[0]) + 0.5, minor=False)\n",
        "\n",
        "#insert labels\n",
        "ax.set_xticklabels(row_labels, minor=False)\n",
        "ax.set_yticklabels(col_labels, minor=False)\n",
        "\n",
        "#rotate label if too long\n",
        "plt.xticks(rotation=90)\n",
        "\n",
        "fig.colorbar(im)\n",
        "plt.show()"
      ],
      "execution_count": null,
      "outputs": [
        {
          "output_type": "display_data",
          "data": {
            "image/png": "[encoded data removed]",
            "text/plain": [
              "<Figure size 432x288 with 2 Axes>"
            ]
          },
          "metadata": {
            "tags": [],
            "needs_background": "light"
          }
        }
      ]
    },
    {
      "cell_type": "markdown",
      "metadata": {
        "id": "R3u2qMRELhLt",
        "colab_type": "text"
      },
      "source": [
        "<p>La visualización es muy importante en ciencia de datos y los paquetes de Python proporcionan mucha versatilidad.</p>\n",
        "\n",
        "<p>El análisis exploratorio nos debe ayudar a responder la pregunta: ¿Cuales son las principales características o atributos que tienen mayor impacto sobre la variable objetivo?\".</p>\n",
        "\n",
        "<p>Para responder esta pregunta de manera más precisa, analizamos la correlacion de esas variables con la variable objetivo, con el fin de determinar como la variable objetivo es dependiente del resto de las variables que nos entregaron</p>"
      ]
    },
    {
      "cell_type": "markdown",
      "metadata": {
        "id": "Mm6lsHkTLhLy",
        "colab_type": "text"
      },
      "source": [
        "<h2 id=\"correlation_causation\">5. Correlación y Causación</h2>"
      ]
    },
    {
      "cell_type": "markdown",
      "metadata": {
        "id": "F6JzPDJGLhLz",
        "colab_type": "text"
      },
      "source": [
        "<p><b>Correlación</b>: medida del grado de interdependencia entre variables.</p>\n",
        "\n",
        "<p><b>Causación</b>: la relación causa y efecto entre dos variables.</p>\n",
        "\n",
        "<p></p>"
      ]
    },
    {
      "cell_type": "markdown",
      "metadata": {
        "id": "id9m8vw3LhL0",
        "colab_type": "text"
      },
      "source": [
        "<p3>Correlación de Pearson</p>\n",
        "<p>Mide la dependencia lineal entre dos variables \"X\" y \"Y\".</p>\n",
        "<p>El resultado es el coeficiente de Person, el cual es un valor entre -1 and 1 inclusive, donde:</p>\n",
        "<ul>\n",
        "    <li><b>1</b>: Indica correlación lineal positiva.</li>\n",
        "    <li><b>0</b>: Indica que no hay correlación, es decir, muy probablemente las dos variables no se afectan.</li>\n",
        "    <li><b>-1</b>: Indica correlación lineal positiva</li>\n",
        "</ul>"
      ]
    },
    {
      "cell_type": "markdown",
      "metadata": {
        "id": "dYVKdQ34LhL1",
        "colab_type": "text"
      },
      "source": [
        "<p>\n",
        "La correlación de Pearson es el método predeterminado de la función \"corr\". Como antes, podemos calcular la correlación de Pearson de las variables 'int64' o 'float64'.</p>"
      ]
    },
    {
      "cell_type": "code",
      "metadata": {
        "jupyter": {
          "outputs_hidden": false
        },
        "id": "5ZqZ760cLhL3",
        "colab_type": "code",
        "colab": {},
        "outputId": "13f1891e-44ac-4039-f8a1-bf8bf2c1b3a6"
      },
      "source": [
        "df.corr()"
      ],
      "execution_count": null,
      "outputs": [
        {
          "output_type": "execute_result",
          "data": {
            "text/html": [
              "<div>\n",
              "<style scoped>\n",
              "    .dataframe tbody tr th:only-of-type {\n",
              "        vertical-align: middle;\n",
              "    }\n",
              "\n",
              "    .dataframe tbody tr th {\n",
              "        vertical-align: top;\n",
              "    }\n",
              "\n",
              "    .dataframe thead th {\n",
              "        text-align: right;\n",
              "    }\n",
              "</style>\n",
              "<table border=\"1\" class=\"dataframe\">\n",
              "  <thead>\n",
              "    <tr style=\"text-align: right;\">\n",
              "      <th></th>\n",
              "      <th>symboling</th>\n",
              "      <th>normalized-losses</th>\n",
              "      <th>wheel-base</th>\n",
              "      <th>length</th>\n",
              "      <th>width</th>\n",
              "      <th>height</th>\n",
              "      <th>curb-weight</th>\n",
              "      <th>engine-size</th>\n",
              "      <th>bore</th>\n",
              "      <th>stroke</th>\n",
              "      <th>compression-ratio</th>\n",
              "      <th>horsepower</th>\n",
              "      <th>peak-rpm</th>\n",
              "      <th>city-mpg</th>\n",
              "      <th>highway-mpg</th>\n",
              "      <th>price</th>\n",
              "      <th>city-L/100km</th>\n",
              "      <th>diesel</th>\n",
              "      <th>gas</th>\n",
              "    </tr>\n",
              "  </thead>\n",
              "  <tbody>\n",
              "    <tr>\n",
              "      <th>symboling</th>\n",
              "      <td>1.000000</td>\n",
              "      <td>0.466264</td>\n",
              "      <td>-0.535987</td>\n",
              "      <td>-0.365404</td>\n",
              "      <td>-0.242423</td>\n",
              "      <td>-0.550160</td>\n",
              "      <td>-0.233118</td>\n",
              "      <td>-0.110581</td>\n",
              "      <td>-0.140019</td>\n",
              "      <td>-0.008245</td>\n",
              "      <td>-0.182196</td>\n",
              "      <td>0.075819</td>\n",
              "      <td>0.279740</td>\n",
              "      <td>-0.035527</td>\n",
              "      <td>0.036233</td>\n",
              "      <td>-0.082391</td>\n",
              "      <td>0.066171</td>\n",
              "      <td>-0.196735</td>\n",
              "      <td>0.196735</td>\n",
              "    </tr>\n",
              "    <tr>\n",
              "      <th>normalized-losses</th>\n",
              "      <td>0.466264</td>\n",
              "      <td>1.000000</td>\n",
              "      <td>-0.056661</td>\n",
              "      <td>0.019424</td>\n",
              "      <td>0.086802</td>\n",
              "      <td>-0.373737</td>\n",
              "      <td>0.099404</td>\n",
              "      <td>0.112360</td>\n",
              "      <td>-0.029862</td>\n",
              "      <td>0.055563</td>\n",
              "      <td>-0.114713</td>\n",
              "      <td>0.217299</td>\n",
              "      <td>0.239543</td>\n",
              "      <td>-0.225016</td>\n",
              "      <td>-0.181877</td>\n",
              "      <td>0.133999</td>\n",
              "      <td>0.238567</td>\n",
              "      <td>-0.101546</td>\n",
              "      <td>0.101546</td>\n",
              "    </tr>\n",
              "    <tr>\n",
              "      <th>wheel-base</th>\n",
              "      <td>-0.535987</td>\n",
              "      <td>-0.056661</td>\n",
              "      <td>1.000000</td>\n",
              "      <td>0.876024</td>\n",
              "      <td>0.814507</td>\n",
              "      <td>0.590742</td>\n",
              "      <td>0.782097</td>\n",
              "      <td>0.572027</td>\n",
              "      <td>0.493244</td>\n",
              "      <td>0.158502</td>\n",
              "      <td>0.250313</td>\n",
              "      <td>0.371147</td>\n",
              "      <td>-0.360305</td>\n",
              "      <td>-0.470606</td>\n",
              "      <td>-0.543304</td>\n",
              "      <td>0.584642</td>\n",
              "      <td>0.476153</td>\n",
              "      <td>0.307237</td>\n",
              "      <td>-0.307237</td>\n",
              "    </tr>\n",
              "    <tr>\n",
              "      <th>length</th>\n",
              "      <td>-0.365404</td>\n",
              "      <td>0.019424</td>\n",
              "      <td>0.876024</td>\n",
              "      <td>1.000000</td>\n",
              "      <td>0.857170</td>\n",
              "      <td>0.492063</td>\n",
              "      <td>0.880665</td>\n",
              "      <td>0.685025</td>\n",
              "      <td>0.608971</td>\n",
              "      <td>0.124139</td>\n",
              "      <td>0.159733</td>\n",
              "      <td>0.579821</td>\n",
              "      <td>-0.285970</td>\n",
              "      <td>-0.665192</td>\n",
              "      <td>-0.698142</td>\n",
              "      <td>0.690628</td>\n",
              "      <td>0.657373</td>\n",
              "      <td>0.211187</td>\n",
              "      <td>-0.211187</td>\n",
              "    </tr>\n",
              "    <tr>\n",
              "      <th>width</th>\n",
              "      <td>-0.242423</td>\n",
              "      <td>0.086802</td>\n",
              "      <td>0.814507</td>\n",
              "      <td>0.857170</td>\n",
              "      <td>1.000000</td>\n",
              "      <td>0.306002</td>\n",
              "      <td>0.866201</td>\n",
              "      <td>0.729436</td>\n",
              "      <td>0.544885</td>\n",
              "      <td>0.188829</td>\n",
              "      <td>0.189867</td>\n",
              "      <td>0.615077</td>\n",
              "      <td>-0.245800</td>\n",
              "      <td>-0.633531</td>\n",
              "      <td>-0.680635</td>\n",
              "      <td>0.751265</td>\n",
              "      <td>0.673363</td>\n",
              "      <td>0.244356</td>\n",
              "      <td>-0.244356</td>\n",
              "    </tr>\n",
              "    <tr>\n",
              "      <th>height</th>\n",
              "      <td>-0.550160</td>\n",
              "      <td>-0.373737</td>\n",
              "      <td>0.590742</td>\n",
              "      <td>0.492063</td>\n",
              "      <td>0.306002</td>\n",
              "      <td>1.000000</td>\n",
              "      <td>0.307581</td>\n",
              "      <td>0.074694</td>\n",
              "      <td>0.180449</td>\n",
              "      <td>-0.062704</td>\n",
              "      <td>0.259737</td>\n",
              "      <td>-0.087027</td>\n",
              "      <td>-0.309974</td>\n",
              "      <td>-0.049800</td>\n",
              "      <td>-0.104812</td>\n",
              "      <td>0.135486</td>\n",
              "      <td>0.003811</td>\n",
              "      <td>0.281578</td>\n",
              "      <td>-0.281578</td>\n",
              "    </tr>\n",
              "    <tr>\n",
              "      <th>curb-weight</th>\n",
              "      <td>-0.233118</td>\n",
              "      <td>0.099404</td>\n",
              "      <td>0.782097</td>\n",
              "      <td>0.880665</td>\n",
              "      <td>0.866201</td>\n",
              "      <td>0.307581</td>\n",
              "      <td>1.000000</td>\n",
              "      <td>0.849072</td>\n",
              "      <td>0.644060</td>\n",
              "      <td>0.167562</td>\n",
              "      <td>0.156433</td>\n",
              "      <td>0.757976</td>\n",
              "      <td>-0.279361</td>\n",
              "      <td>-0.749543</td>\n",
              "      <td>-0.794889</td>\n",
              "      <td>0.834415</td>\n",
              "      <td>0.785353</td>\n",
              "      <td>0.221046</td>\n",
              "      <td>-0.221046</td>\n",
              "    </tr>\n",
              "    <tr>\n",
              "      <th>engine-size</th>\n",
              "      <td>-0.110581</td>\n",
              "      <td>0.112360</td>\n",
              "      <td>0.572027</td>\n",
              "      <td>0.685025</td>\n",
              "      <td>0.729436</td>\n",
              "      <td>0.074694</td>\n",
              "      <td>0.849072</td>\n",
              "      <td>1.000000</td>\n",
              "      <td>0.572609</td>\n",
              "      <td>0.209523</td>\n",
              "      <td>0.028889</td>\n",
              "      <td>0.822676</td>\n",
              "      <td>-0.256733</td>\n",
              "      <td>-0.650546</td>\n",
              "      <td>-0.679571</td>\n",
              "      <td>0.872335</td>\n",
              "      <td>0.745059</td>\n",
              "      <td>0.070779</td>\n",
              "      <td>-0.070779</td>\n",
              "    </tr>\n",
              "    <tr>\n",
              "      <th>bore</th>\n",
              "      <td>-0.140019</td>\n",
              "      <td>-0.029862</td>\n",
              "      <td>0.493244</td>\n",
              "      <td>0.608971</td>\n",
              "      <td>0.544885</td>\n",
              "      <td>0.180449</td>\n",
              "      <td>0.644060</td>\n",
              "      <td>0.572609</td>\n",
              "      <td>1.000000</td>\n",
              "      <td>-0.055390</td>\n",
              "      <td>0.001263</td>\n",
              "      <td>0.566936</td>\n",
              "      <td>-0.267392</td>\n",
              "      <td>-0.582027</td>\n",
              "      <td>-0.591309</td>\n",
              "      <td>0.543155</td>\n",
              "      <td>0.554610</td>\n",
              "      <td>0.054458</td>\n",
              "      <td>-0.054458</td>\n",
              "    </tr>\n",
              "    <tr>\n",
              "      <th>stroke</th>\n",
              "      <td>-0.008245</td>\n",
              "      <td>0.055563</td>\n",
              "      <td>0.158502</td>\n",
              "      <td>0.124139</td>\n",
              "      <td>0.188829</td>\n",
              "      <td>-0.062704</td>\n",
              "      <td>0.167562</td>\n",
              "      <td>0.209523</td>\n",
              "      <td>-0.055390</td>\n",
              "      <td>1.000000</td>\n",
              "      <td>0.187923</td>\n",
              "      <td>0.098462</td>\n",
              "      <td>-0.065713</td>\n",
              "      <td>-0.034696</td>\n",
              "      <td>-0.035201</td>\n",
              "      <td>0.082310</td>\n",
              "      <td>0.037300</td>\n",
              "      <td>0.241303</td>\n",
              "      <td>-0.241303</td>\n",
              "    </tr>\n",
              "    <tr>\n",
              "      <th>compression-ratio</th>\n",
              "      <td>-0.182196</td>\n",
              "      <td>-0.114713</td>\n",
              "      <td>0.250313</td>\n",
              "      <td>0.159733</td>\n",
              "      <td>0.189867</td>\n",
              "      <td>0.259737</td>\n",
              "      <td>0.156433</td>\n",
              "      <td>0.028889</td>\n",
              "      <td>0.001263</td>\n",
              "      <td>0.187923</td>\n",
              "      <td>1.000000</td>\n",
              "      <td>-0.214514</td>\n",
              "      <td>-0.435780</td>\n",
              "      <td>0.331425</td>\n",
              "      <td>0.268465</td>\n",
              "      <td>0.071107</td>\n",
              "      <td>-0.299372</td>\n",
              "      <td>0.985231</td>\n",
              "      <td>-0.985231</td>\n",
              "    </tr>\n",
              "    <tr>\n",
              "      <th>horsepower</th>\n",
              "      <td>0.075819</td>\n",
              "      <td>0.217299</td>\n",
              "      <td>0.371147</td>\n",
              "      <td>0.579821</td>\n",
              "      <td>0.615077</td>\n",
              "      <td>-0.087027</td>\n",
              "      <td>0.757976</td>\n",
              "      <td>0.822676</td>\n",
              "      <td>0.566936</td>\n",
              "      <td>0.098462</td>\n",
              "      <td>-0.214514</td>\n",
              "      <td>1.000000</td>\n",
              "      <td>0.107885</td>\n",
              "      <td>-0.822214</td>\n",
              "      <td>-0.804575</td>\n",
              "      <td>0.809575</td>\n",
              "      <td>0.889488</td>\n",
              "      <td>-0.169053</td>\n",
              "      <td>0.169053</td>\n",
              "    </tr>\n",
              "    <tr>\n",
              "      <th>peak-rpm</th>\n",
              "      <td>0.279740</td>\n",
              "      <td>0.239543</td>\n",
              "      <td>-0.360305</td>\n",
              "      <td>-0.285970</td>\n",
              "      <td>-0.245800</td>\n",
              "      <td>-0.309974</td>\n",
              "      <td>-0.279361</td>\n",
              "      <td>-0.256733</td>\n",
              "      <td>-0.267392</td>\n",
              "      <td>-0.065713</td>\n",
              "      <td>-0.435780</td>\n",
              "      <td>0.107885</td>\n",
              "      <td>1.000000</td>\n",
              "      <td>-0.115413</td>\n",
              "      <td>-0.058598</td>\n",
              "      <td>-0.101616</td>\n",
              "      <td>0.115830</td>\n",
              "      <td>-0.475812</td>\n",
              "      <td>0.475812</td>\n",
              "    </tr>\n",
              "    <tr>\n",
              "      <th>city-mpg</th>\n",
              "      <td>-0.035527</td>\n",
              "      <td>-0.225016</td>\n",
              "      <td>-0.470606</td>\n",
              "      <td>-0.665192</td>\n",
              "      <td>-0.633531</td>\n",
              "      <td>-0.049800</td>\n",
              "      <td>-0.749543</td>\n",
              "      <td>-0.650546</td>\n",
              "      <td>-0.582027</td>\n",
              "      <td>-0.034696</td>\n",
              "      <td>0.331425</td>\n",
              "      <td>-0.822214</td>\n",
              "      <td>-0.115413</td>\n",
              "      <td>1.000000</td>\n",
              "      <td>0.972044</td>\n",
              "      <td>-0.686571</td>\n",
              "      <td>-0.949713</td>\n",
              "      <td>0.265676</td>\n",
              "      <td>-0.265676</td>\n",
              "    </tr>\n",
              "    <tr>\n",
              "      <th>highway-mpg</th>\n",
              "      <td>0.036233</td>\n",
              "      <td>-0.181877</td>\n",
              "      <td>-0.543304</td>\n",
              "      <td>-0.698142</td>\n",
              "      <td>-0.680635</td>\n",
              "      <td>-0.104812</td>\n",
              "      <td>-0.794889</td>\n",
              "      <td>-0.679571</td>\n",
              "      <td>-0.591309</td>\n",
              "      <td>-0.035201</td>\n",
              "      <td>0.268465</td>\n",
              "      <td>-0.804575</td>\n",
              "      <td>-0.058598</td>\n",
              "      <td>0.972044</td>\n",
              "      <td>1.000000</td>\n",
              "      <td>-0.704692</td>\n",
              "      <td>-0.930028</td>\n",
              "      <td>0.198690</td>\n",
              "      <td>-0.198690</td>\n",
              "    </tr>\n",
              "    <tr>\n",
              "      <th>price</th>\n",
              "      <td>-0.082391</td>\n",
              "      <td>0.133999</td>\n",
              "      <td>0.584642</td>\n",
              "      <td>0.690628</td>\n",
              "      <td>0.751265</td>\n",
              "      <td>0.135486</td>\n",
              "      <td>0.834415</td>\n",
              "      <td>0.872335</td>\n",
              "      <td>0.543155</td>\n",
              "      <td>0.082310</td>\n",
              "      <td>0.071107</td>\n",
              "      <td>0.809575</td>\n",
              "      <td>-0.101616</td>\n",
              "      <td>-0.686571</td>\n",
              "      <td>-0.704692</td>\n",
              "      <td>1.000000</td>\n",
              "      <td>0.789898</td>\n",
              "      <td>0.110326</td>\n",
              "      <td>-0.110326</td>\n",
              "    </tr>\n",
              "    <tr>\n",
              "      <th>city-L/100km</th>\n",
              "      <td>0.066171</td>\n",
              "      <td>0.238567</td>\n",
              "      <td>0.476153</td>\n",
              "      <td>0.657373</td>\n",
              "      <td>0.673363</td>\n",
              "      <td>0.003811</td>\n",
              "      <td>0.785353</td>\n",
              "      <td>0.745059</td>\n",
              "      <td>0.554610</td>\n",
              "      <td>0.037300</td>\n",
              "      <td>-0.299372</td>\n",
              "      <td>0.889488</td>\n",
              "      <td>0.115830</td>\n",
              "      <td>-0.949713</td>\n",
              "      <td>-0.930028</td>\n",
              "      <td>0.789898</td>\n",
              "      <td>1.000000</td>\n",
              "      <td>-0.241282</td>\n",
              "      <td>0.241282</td>\n",
              "    </tr>\n",
              "    <tr>\n",
              "      <th>diesel</th>\n",
              "      <td>-0.196735</td>\n",
              "      <td>-0.101546</td>\n",
              "      <td>0.307237</td>\n",
              "      <td>0.211187</td>\n",
              "      <td>0.244356</td>\n",
              "      <td>0.281578</td>\n",
              "      <td>0.221046</td>\n",
              "      <td>0.070779</td>\n",
              "      <td>0.054458</td>\n",
              "      <td>0.241303</td>\n",
              "      <td>0.985231</td>\n",
              "      <td>-0.169053</td>\n",
              "      <td>-0.475812</td>\n",
              "      <td>0.265676</td>\n",
              "      <td>0.198690</td>\n",
              "      <td>0.110326</td>\n",
              "      <td>-0.241282</td>\n",
              "      <td>1.000000</td>\n",
              "      <td>-1.000000</td>\n",
              "    </tr>\n",
              "    <tr>\n",
              "      <th>gas</th>\n",
              "      <td>0.196735</td>\n",
              "      <td>0.101546</td>\n",
              "      <td>-0.307237</td>\n",
              "      <td>-0.211187</td>\n",
              "      <td>-0.244356</td>\n",
              "      <td>-0.281578</td>\n",
              "      <td>-0.221046</td>\n",
              "      <td>-0.070779</td>\n",
              "      <td>-0.054458</td>\n",
              "      <td>-0.241303</td>\n",
              "      <td>-0.985231</td>\n",
              "      <td>0.169053</td>\n",
              "      <td>0.475812</td>\n",
              "      <td>-0.265676</td>\n",
              "      <td>-0.198690</td>\n",
              "      <td>-0.110326</td>\n",
              "      <td>0.241282</td>\n",
              "      <td>-1.000000</td>\n",
              "      <td>1.000000</td>\n",
              "    </tr>\n",
              "  </tbody>\n",
              "</table>\n",
              "</div>"
            ],
            "text/plain": [
              "                   symboling  normalized-losses  wheel-base    length  \\\n",
              "symboling           1.000000           0.466264   -0.535987 -0.365404   \n",
              "normalized-losses   0.466264           1.000000   -0.056661  0.019424   \n",
              "wheel-base         -0.535987          -0.056661    1.000000  0.876024   \n",
              "length             -0.365404           0.019424    0.876024  1.000000   \n",
              "width              -0.242423           0.086802    0.814507  0.857170   \n",
              "height             -0.550160          -0.373737    0.590742  0.492063   \n",
              "curb-weight        -0.233118           0.099404    0.782097  0.880665   \n",
              "engine-size        -0.110581           0.112360    0.572027  0.685025   \n",
              "bore               -0.140019          -0.029862    0.493244  0.608971   \n",
              "stroke             -0.008245           0.055563    0.158502  0.124139   \n",
              "compression-ratio  -0.182196          -0.114713    0.250313  0.159733   \n",
              "horsepower          0.075819           0.217299    0.371147  0.579821   \n",
              "peak-rpm            0.279740           0.239543   -0.360305 -0.285970   \n",
              "city-mpg           -0.035527          -0.225016   -0.470606 -0.665192   \n",
              "highway-mpg         0.036233          -0.181877   -0.543304 -0.698142   \n",
              "price              -0.082391           0.133999    0.584642  0.690628   \n",
              "city-L/100km        0.066171           0.238567    0.476153  0.657373   \n",
              "diesel             -0.196735          -0.101546    0.307237  0.211187   \n",
              "gas                 0.196735           0.101546   -0.307237 -0.211187   \n",
              "\n",
              "                      width    height  curb-weight  engine-size      bore  \\\n",
              "symboling         -0.242423 -0.550160    -0.233118    -0.110581 -0.140019   \n",
              "normalized-losses  0.086802 -0.373737     0.099404     0.112360 -0.029862   \n",
              "wheel-base         0.814507  0.590742     0.782097     0.572027  0.493244   \n",
              "length             0.857170  0.492063     0.880665     0.685025  0.608971   \n",
              "width              1.000000  0.306002     0.866201     0.729436  0.544885   \n",
              "height             0.306002  1.000000     0.307581     0.074694  0.180449   \n",
              "curb-weight        0.866201  0.307581     1.000000     0.849072  0.644060   \n",
              "engine-size        0.729436  0.074694     0.849072     1.000000  0.572609   \n",
              "bore               0.544885  0.180449     0.644060     0.572609  1.000000   \n",
              "stroke             0.188829 -0.062704     0.167562     0.209523 -0.055390   \n",
              "compression-ratio  0.189867  0.259737     0.156433     0.028889  0.001263   \n",
              "horsepower         0.615077 -0.087027     0.757976     0.822676  0.566936   \n",
              "peak-rpm          -0.245800 -0.309974    -0.279361    -0.256733 -0.267392   \n",
              "city-mpg          -0.633531 -0.049800    -0.749543    -0.650546 -0.582027   \n",
              "highway-mpg       -0.680635 -0.104812    -0.794889    -0.679571 -0.591309   \n",
              "price              0.751265  0.135486     0.834415     0.872335  0.543155   \n",
              "city-L/100km       0.673363  0.003811     0.785353     0.745059  0.554610   \n",
              "diesel             0.244356  0.281578     0.221046     0.070779  0.054458   \n",
              "gas               -0.244356 -0.281578    -0.221046    -0.070779 -0.054458   \n",
              "\n",
              "                     stroke  compression-ratio  horsepower  peak-rpm  \\\n",
              "symboling         -0.008245          -0.182196    0.075819  0.279740   \n",
              "normalized-losses  0.055563          -0.114713    0.217299  0.239543   \n",
              "wheel-base         0.158502           0.250313    0.371147 -0.360305   \n",
              "length             0.124139           0.159733    0.579821 -0.285970   \n",
              "width              0.188829           0.189867    0.615077 -0.245800   \n",
              "height            -0.062704           0.259737   -0.087027 -0.309974   \n",
              "curb-weight        0.167562           0.156433    0.757976 -0.279361   \n",
              "engine-size        0.209523           0.028889    0.822676 -0.256733   \n",
              "bore              -0.055390           0.001263    0.566936 -0.267392   \n",
              "stroke             1.000000           0.187923    0.098462 -0.065713   \n",
              "compression-ratio  0.187923           1.000000   -0.214514 -0.435780   \n",
              "horsepower         0.098462          -0.214514    1.000000  0.107885   \n",
              "peak-rpm          -0.065713          -0.435780    0.107885  1.000000   \n",
              "city-mpg          -0.034696           0.331425   -0.822214 -0.115413   \n",
              "highway-mpg       -0.035201           0.268465   -0.804575 -0.058598   \n",
              "price              0.082310           0.071107    0.809575 -0.101616   \n",
              "city-L/100km       0.037300          -0.299372    0.889488  0.115830   \n",
              "diesel             0.241303           0.985231   -0.169053 -0.475812   \n",
              "gas               -0.241303          -0.985231    0.169053  0.475812   \n",
              "\n",
              "                   city-mpg  highway-mpg     price  city-L/100km    diesel  \\\n",
              "symboling         -0.035527     0.036233 -0.082391      0.066171 -0.196735   \n",
              "normalized-losses -0.225016    -0.181877  0.133999      0.238567 -0.101546   \n",
              "wheel-base        -0.470606    -0.543304  0.584642      0.476153  0.307237   \n",
              "length            -0.665192    -0.698142  0.690628      0.657373  0.211187   \n",
              "width             -0.633531    -0.680635  0.751265      0.673363  0.244356   \n",
              "height            -0.049800    -0.104812  0.135486      0.003811  0.281578   \n",
              "curb-weight       -0.749543    -0.794889  0.834415      0.785353  0.221046   \n",
              "engine-size       -0.650546    -0.679571  0.872335      0.745059  0.070779   \n",
              "bore              -0.582027    -0.591309  0.543155      0.554610  0.054458   \n",
              "stroke            -0.034696    -0.035201  0.082310      0.037300  0.241303   \n",
              "compression-ratio  0.331425     0.268465  0.071107     -0.299372  0.985231   \n",
              "horsepower        -0.822214    -0.804575  0.809575      0.889488 -0.169053   \n",
              "peak-rpm          -0.115413    -0.058598 -0.101616      0.115830 -0.475812   \n",
              "city-mpg           1.000000     0.972044 -0.686571     -0.949713  0.265676   \n",
              "highway-mpg        0.972044     1.000000 -0.704692     -0.930028  0.198690   \n",
              "price             -0.686571    -0.704692  1.000000      0.789898  0.110326   \n",
              "city-L/100km      -0.949713    -0.930028  0.789898      1.000000 -0.241282   \n",
              "diesel             0.265676     0.198690  0.110326     -0.241282  1.000000   \n",
              "gas               -0.265676    -0.198690 -0.110326      0.241282 -1.000000   \n",
              "\n",
              "                        gas  \n",
              "symboling          0.196735  \n",
              "normalized-losses  0.101546  \n",
              "wheel-base        -0.307237  \n",
              "length            -0.211187  \n",
              "width             -0.244356  \n",
              "height            -0.281578  \n",
              "curb-weight       -0.221046  \n",
              "engine-size       -0.070779  \n",
              "bore              -0.054458  \n",
              "stroke            -0.241303  \n",
              "compression-ratio -0.985231  \n",
              "horsepower         0.169053  \n",
              "peak-rpm           0.475812  \n",
              "city-mpg          -0.265676  \n",
              "highway-mpg       -0.198690  \n",
              "price             -0.110326  \n",
              "city-L/100km       0.241282  \n",
              "diesel            -1.000000  \n",
              "gas                1.000000  "
            ]
          },
          "metadata": {
            "tags": []
          },
          "execution_count": 50
        }
      ]
    },
    {
      "cell_type": "markdown",
      "metadata": {
        "id": "TGwzVC-dLhL_",
        "colab_type": "text"
      },
      "source": [
        "*italicized text* Algunas veces deseamos conocer la significancia de la correlación estimada."
      ]
    },
    {
      "cell_type": "markdown",
      "metadata": {
        "id": "bO9kwlVuLhL_",
        "colab_type": "text"
      },
      "source": [
        "<b>P-value</b>: \n",
        "<p>¿Cuál es este valor P? El valor P es el valor de probabilidad de que la correlación entre estas dos variables sea estadísticamente significativa. Normalmente, elegimos un nivel de significancia de 0.05, lo que significa que tenemos un 95% de confianza en que la correlación entre las variables es significativa.</p>\n",
        "\n",
        "By convention, when the\n",
        "<ul>\n",
        "    <li>p-value es $<$ 0.001: decimos que hay una evidencia fuerte de que la correlación es significativa.</li>\n",
        "    <li>the p-value is $<$ 0.05: hay evidencia moderada de que la correlación es significativa.</li>\n",
        "    <li>the p-value is $<$ 0.1: hay evidencia débil de que la correlación sea sinificativa.</li>\n",
        "    <li>the p-value is $>$ 0.1: no hay evidencia de que la correlación sea significativa.</li>\n",
        "</ul>"
      ]
    },
    {
      "cell_type": "code",
      "metadata": {
        "id": "2hoxRC8HLhMB",
        "colab_type": "code",
        "colab": {}
      },
      "source": [
        "### Importar paquete stats\n",
        "from scipy import stats"
      ],
      "execution_count": 18,
      "outputs": []
    },
    {
      "cell_type": "markdown",
      "metadata": {
        "id": "G07bvc0RLhMc",
        "colab_type": "text"
      },
      "source": [
        "<h3>Analisis de correlación entre Horsepower y Price</h3>"
      ]
    },
    {
      "cell_type": "code",
      "metadata": {
        "jupyter": {
          "outputs_hidden": false
        },
        "id": "qNPoTRl4LhMg",
        "colab_type": "code",
        "colab": {},
        "outputId": "496fff97-3da6-4ef1-cb26-b004a6502875"
      },
      "source": [
        "pearson_coef, p_value = stats.pearsonr(df['horsepower'], df['price'])\n",
        "print(\"El coeficiente de correlacion de Pearson es \", pearson_coef, \" con un p-value de P = \", p_value)  "
      ],
      "execution_count": null,
      "outputs": [
        {
          "output_type": "stream",
          "text": [
            "The Pearson Correlation Coefficient is 0.8095745670036559  with a P-value of P =  6.36905742825998e-48\n"
          ],
          "name": "stdout"
        }
      ]
    },
    {
      "cell_type": "markdown",
      "metadata": {
        "id": "ugvxUzKzLhMo",
        "colab_type": "text"
      },
      "source": [
        "<h5>Conclusion:</h5>\n",
        "\n",
        "<p>Puesto el p-value is $<$ 0.001, la correlación entre  horsepower y price es estadísticamente significativa, y la relación lineal es muy fuerte (~0.809, close to 1)</p>"
      ]
    },
    {
      "cell_type": "markdown",
      "metadata": {
        "id": "lAX-ziUUuT3n",
        "colab_type": "text"
      },
      "source": [
        "FIN"
      ]
    }
  ]
}